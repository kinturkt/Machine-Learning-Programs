{
 "cells": [
  {
   "cell_type": "markdown",
   "metadata": {},
   "source": [
    "# 1st Part: kNN algorithm from Scratch"
   ]
  },
  {
   "cell_type": "code",
   "execution_count": null,
   "metadata": {},
   "outputs": [],
   "source": [
    "import csv\n",
    "from random import randrange\n",
    "\n",
    "def load_csv(filename):\n",
    "    dataset = list()\n",
    "    with open(filename, 'r') as file:\n",
    "        csv_reader = csv.reader(file)\n",
    "        for row in csv_reader:\n",
    "            if not row:\n",
    "                continue\n",
    "            dataset.append(row)\n",
    "    return dataset\n",
    "\n",
    "def convert_str_column_to_int(dataset, column):\n",
    "    class_values = [row[column] for row in dataset]\n",
    "    unique = set(class_values)\n",
    "    lookup = dict()\n",
    "    for i, value in enumerate(unique):\n",
    "        lookup[value] = i\n",
    "    for row in dataset:\n",
    "        row[column] = lookup[row[column]]\n",
    "    return lookup"
   ]
  },
  {
   "cell_type": "code",
   "execution_count": null,
   "metadata": {},
   "outputs": [],
   "source": [
    "# Evaluating Euclidean Distance\n",
    "from math import sqrt\n",
    "\n",
    "def euclidean_distance(row1, row2):\n",
    "    return sum((x - y) ** 2 for x, y in zip(row1, row2)) ** 0.5"
   ]
  },
  {
   "cell_type": "code",
   "execution_count": null,
   "metadata": {},
   "outputs": [],
   "source": [
    "def predict_classification(train, test_row, num_neighbors):\n",
    "    distances = [(train_row, euclidean_distance(test_row, train_row[:-1])) for train_row in train]\n",
    "    distances.sort(key=lambda tup: tup[1])\n",
    "    neighbors = [distances[i][0] for i in range(num_neighbors)]\n",
    "    output_values = [row[-1] for row in neighbors]\n",
    "    prediction_val = max(set(output_values), key=output_values.count)\n",
    "    return prediction_val"
   ]
  },
  {
   "cell_type": "code",
   "execution_count": null,
   "metadata": {},
   "outputs": [],
   "source": [
    "def k_nearest_neighbors(train, test, num_neighbors):\n",
    "    n_predictions = [predict_classification(train, test_row, num_neighbors) for test_row in test]\n",
    "    return n_predictions"
   ]
  },
  {
   "cell_type": "code",
   "execution_count": null,
   "metadata": {},
   "outputs": [],
   "source": [
    "def cross_validation_split(dataset, n_folds):\n",
    "    dataset_split = list()\n",
    "    dataset_copy = list(dataset)\n",
    "    fold_size = int(len(dataset) / n_folds)\n",
    "    for _ in range(n_folds):\n",
    "        fold = list()\n",
    "        while len(fold) < fold_size:\n",
    "            index = randrange(len(dataset_copy))\n",
    "            fold.append(dataset_copy.pop(index))\n",
    "        dataset_split.append(fold)\n",
    "    return dataset_split"
   ]
  },
  {
   "cell_type": "code",
   "execution_count": null,
   "metadata": {},
   "outputs": [],
   "source": [
    "# Calculating Accuracy from Confusion matrix\n",
    "# Accuracy = All Positives / All Positives & Negatives = TP + TN / TP + TN + FP + FN\n",
    "\n",
    "def accuracy_metric(actual, predicted):\n",
    "    correct = sum([a == p for a, p in zip(actual, predicted)])\n",
    "    return correct / len(actual) * 100.0"
   ]
  },
  {
   "cell_type": "code",
   "execution_count": null,
   "metadata": {},
   "outputs": [],
   "source": [
    "def algorithm_evaluation(dataset, algorithm, n_folds, *args):\n",
    "    folds = cross_validation_split(dataset, n_folds)         # Function called named cross_validation_split\n",
    "    scores = list()\n",
    "    for fold in folds:\n",
    "        train_set = list(folds)\n",
    "        train_set.remove(fold)\n",
    "        train_set = sum(train_set, [])\n",
    "        test_set = list()\n",
    "        for row in fold:\n",
    "            row_copy = list(row)\n",
    "            test_set.append(row_copy)\n",
    "            row_copy[-1] = None\n",
    "        predicted = algorithm(train_set, test_set, *args)\n",
    "        actual = [row[-1] for row in fold]\n",
    "        accuracy = accuracy_metric(actual, predicted)        # Function called named accuracy_metric\n",
    "        scores.append(accuracy)\n",
    "    return scores"
   ]
  },
  {
   "cell_type": "code",
   "execution_count": null,
   "metadata": {},
   "outputs": [],
   "source": [
    "from sklearn.model_selection import KFold, cross_val_score\n",
    "from sklearn.metrics import accuracy_score\n",
    "from sklearn.preprocessing import StandardScaler\n",
    "from sklearn.neighbors import KNeighborsClassifier"
   ]
  },
  {
   "cell_type": "markdown",
   "metadata": {},
   "source": [
    "# 2nd Part: Calculating Accuracies of both the methods and performing Paired T-test\n",
    "\n",
    "### This T-Test is performed between kNN_Scratch_Accuracy and Sklearn_Accuracy"
   ]
  },
  {
   "cell_type": "code",
   "execution_count": null,
   "metadata": {},
   "outputs": [],
   "source": [
    "from scipy.stats import ttest_rel\n",
    "\n",
    "def select_dataset():\n",
    "    while True:  # Keep asking until a valid choice is made\n",
    "        print(\"Please select a dataset you want to use:\")\n",
    "        print(\"1. Hayes-Roth\")\n",
    "        print(\"2. Car-Evaluation\")\n",
    "        print(\"3. Breast-Cancer\")\n",
    "\n",
    "        choice = input(\"Enter a number from 1, 2 or 3: \")\n",
    "        if choice == '1':\n",
    "            return 'hayes-roth.csv', 'Hayes-Roth'\n",
    "        elif choice == '2':\n",
    "            return 'car-evaluation.csv', 'Car Evaluation'\n",
    "        elif choice == '3':\n",
    "            return 'breast-cancer.csv', 'Breast-Cancer'\n",
    "        else:\n",
    "            print(\"Invalid selection. Please try again & select a number from 1, 2, or 3.\")\n",
    "\n",
    "if __name__ == \"__main__\":\n",
    "    filename, dataset_name = select_dataset()\n",
    "    if filename:\n",
    "        try:\n",
    "            dataset = load_csv(filename)\n",
    "            print(f\"Loaded dataset from {filename} with {len(dataset)} rows and {len(dataset[0])} columns.\")\n",
    "            print(\"-----------------------------------------------------------------------------------------------------------------\")\n",
    "            \n",
    "            for i in range(len(dataset[0])): \n",
    "                convert_str_column_to_int(dataset, i)\n",
    "\n",
    "            n_folds = 10\n",
    "            num_neighbors = 6\n",
    "            \n",
    "            #############################################\n",
    "            X = [row[:-1] for row in dataset]  \n",
    "            y = [row[-1] for row in dataset]\n",
    "\n",
    "            # Convert features to floating values\n",
    "            X = [[float(value) for value in row] for row in X]\n",
    "\n",
    "            scaler = StandardScaler()\n",
    "            X_scaled = scaler.fit_transform(X) \n",
    "\n",
    "            # Define and train the kNN classifier using k-fold cross-validation\n",
    "            knn = KNeighborsClassifier(num_neighbors)\n",
    "            kfold = KFold(n_splits=10, shuffle=True, random_state=42)\n",
    "\n",
    "            sk_learn = cross_val_score(knn, X_scaled, y, cv=kfold, scoring='accuracy')\n",
    "\n",
    "            # Converting sk_learn values into percentage (%) values\n",
    "            sk_learn_accuracy = [score * 100 for score in sk_learn]\n",
    "            sk_learn_mean_accuracy = sum(sk_learn_accuracy)/float(len(sk_learn_accuracy))\n",
    "\n",
    "            # Output of Sklearn Accuracy\n",
    "            print(f\"Sk-learn Accuracy List for {dataset_name} dataset:\", sk_learn_accuracy)\n",
    "            print(f\"Sk-learn Meaan Accuracy for {dataset_name} dataset:\", sk_learn_mean_accuracy)\n",
    "            print(\"-----------------------------------------------------------------------------------------------------------------\")\n",
    "            #############################################\n",
    "\n",
    "            scratch_accuracy = algorithm_evaluation(dataset, k_nearest_neighbors, n_folds, num_neighbors)\n",
    "            scratch_mean_accuracy = sum(scratch_accuracy)/float(len(scratch_accuracy))\n",
    "\n",
    "            # Output of Scratch Accuracy\n",
    "            print(f'Scratch Accuracy List for {dataset_name} dataset:', scratch_accuracy)\n",
    "            print(f'Scratch Mean Accuracy for {dataset_name} dataset:', scratch_mean_accuracy)\n",
    "            print(\"-----------------------------------------------------------------------------------------------------------------\")\n",
    "            t_statistic, p_value = ttest_rel(sk_learn_accuracy, scratch_accuracy)\n",
    "\n",
    "            # Output the results of the t-test\n",
    "            print(f\"Paired t-test between sklearn and scratch model accuracies:\")\n",
    "            print(f\"T-statistic: {t_statistic}\")\n",
    "            print(f\"P-value: {p_value}\")\n",
    "\n",
    "            alpha = 0.05  # Default value of alpha is 5%\n",
    "            if p_value < alpha:\n",
    "                print(f\"Reject null hypothesis for {dataset_name} dataset.\")\n",
    "                print(\"There is a significant difference between the two models accuracies.\")\n",
    "            else:\n",
    "                print(f\"Accept null hypothesis for {dataset_name} dataset.\")\n",
    "                print(\"There is no significant difference between the two models accuracies.\")\n",
    "        except Exception as e:\n",
    "            print(f\"An error occurred: {e}\")"
   ]
  }
 ],
 "metadata": {
  "kernelspec": {
   "display_name": "Python 3",
   "language": "python",
   "name": "python3"
  },
  "language_info": {
   "codemirror_mode": {
    "name": "ipython",
    "version": 3
   },
   "file_extension": ".py",
   "mimetype": "text/x-python",
   "name": "python",
   "nbconvert_exporter": "python",
   "pygments_lexer": "ipython3",
   "version": "3.9.13"
  }
 },
 "nbformat": 4,
 "nbformat_minor": 2
}
